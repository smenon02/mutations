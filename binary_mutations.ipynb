{
  "nbformat": 4,
  "nbformat_minor": 0,
  "metadata": {
    "colab": {
      "provenance": [],
      "toc_visible": true,
      "authorship_tag": "ABX9TyMcHcBbIVJUiV57ar8KGJoh",
      "include_colab_link": true
    },
    "kernelspec": {
      "name": "python3",
      "display_name": "Python 3"
    },
    "language_info": {
      "name": "python"
    }
  },
  "cells": [
    {
      "cell_type": "markdown",
      "metadata": {
        "id": "view-in-github",
        "colab_type": "text"
      },
      "source": [
        "<a href=\"https://colab.research.google.com/github/smenon02/mutations/blob/main/binary_mutations.ipynb\" target=\"_parent\"><img src=\"https://colab.research.google.com/assets/colab-badge.svg\" alt=\"Open In Colab\"/></a>"
      ]
    },
    {
      "cell_type": "markdown",
      "source": [
        "# Imports"
      ],
      "metadata": {
        "id": "prx8PtLPoHZl"
      }
    },
    {
      "cell_type": "code",
      "execution_count": 1,
      "metadata": {
        "colab": {
          "base_uri": "https://localhost:8080/"
        },
        "id": "AaocIYlKngPV",
        "outputId": "5c8ea1cc-db4b-4ffe-98c2-199106b9d295"
      },
      "outputs": [
        {
          "output_type": "stream",
          "name": "stdout",
          "text": [
            "Last updated on 2024-10-30\n"
          ]
        }
      ],
      "source": [
        "from datetime import date\n",
        "\n",
        "today = date.today()\n",
        "print(\"Last updated on\", today)"
      ]
    },
    {
      "cell_type": "code",
      "source": [
        "# mount drive\n",
        "from google.colab import drive\n",
        "drive.mount('/content/drive', force_remount=True)\n",
        "\n",
        "import os\n",
        "root_dir = \"/content/drive/My Drive/\"\n",
        "project_folder = \"Mutations Research/\"\n",
        "# change working directory\n",
        "os.chdir(root_dir + project_folder)\n",
        "# confirm working directory\n",
        "%pwd"
      ],
      "metadata": {
        "colab": {
          "base_uri": "https://localhost:8080/",
          "height": 53
        },
        "id": "9Eiq0ppCn7zF",
        "outputId": "1974f65e-76ab-4935-e0b1-3c90794a116c"
      },
      "execution_count": 2,
      "outputs": [
        {
          "output_type": "stream",
          "name": "stdout",
          "text": [
            "Mounted at /content/drive\n"
          ]
        },
        {
          "output_type": "execute_result",
          "data": {
            "text/plain": [
              "'/content/drive/My Drive/Mutations Research'"
            ],
            "application/vnd.google.colaboratory.intrinsic+json": {
              "type": "string"
            }
          },
          "metadata": {},
          "execution_count": 2
        }
      ]
    },
    {
      "cell_type": "code",
      "source": [
        "# import libraries\n",
        "import pandas as pd\n",
        "import time\n",
        "import sklearn\n",
        "import scipy\n",
        "import sys\n",
        "import numpy as np\n",
        "!pip install dill\n",
        "!pip install pickle\n",
        "import dill\n",
        "import pickle\n",
        "from sklearn.ensemble import RandomForestRegressor\n",
        "from sklearn.model_selection import train_test_split\n",
        "from sklearn.feature_selection import VarianceThreshold\n",
        "from sklearn.multioutput import MultiOutputRegressor\n",
        "from sklearn.model_selection import KFold\n",
        "from sklearn.preprocessing import StandardScaler"
      ],
      "metadata": {
        "colab": {
          "base_uri": "https://localhost:8080/"
        },
        "id": "6ygUKYyVoGid",
        "outputId": "6af6aef1-0125-4bd1-b25e-ad2f886cb042"
      },
      "execution_count": 3,
      "outputs": [
        {
          "output_type": "stream",
          "name": "stdout",
          "text": [
            "Collecting dill\n",
            "  Downloading dill-0.3.9-py3-none-any.whl.metadata (10 kB)\n",
            "Downloading dill-0.3.9-py3-none-any.whl (119 kB)\n",
            "\u001b[?25l   \u001b[90m━━━━━━━━━━━━━━━━━━━━━━━━━━━━━━━━━━━━━━━━\u001b[0m \u001b[32m0.0/119.4 kB\u001b[0m \u001b[31m?\u001b[0m eta \u001b[36m-:--:--\u001b[0m\r\u001b[2K   \u001b[90m━━━━━━━━━━━━━━━━━━━━━━━━━━━━━━━━━━━━━━━━\u001b[0m \u001b[32m119.4/119.4 kB\u001b[0m \u001b[31m8.5 MB/s\u001b[0m eta \u001b[36m0:00:00\u001b[0m\n",
            "\u001b[?25hInstalling collected packages: dill\n",
            "Successfully installed dill-0.3.9\n",
            "\u001b[31mERROR: Could not find a version that satisfies the requirement pickle (from versions: none)\u001b[0m\u001b[31m\n",
            "\u001b[0m\u001b[31mERROR: No matching distribution found for pickle\u001b[0m\u001b[31m\n",
            "\u001b[0m"
          ]
        }
      ]
    },
    {
      "cell_type": "markdown",
      "source": [
        "# Data Processing"
      ],
      "metadata": {
        "id": "vm1HZGtjo0P1"
      }
    },
    {
      "cell_type": "code",
      "source": [
        "def remove_lowVar(df, minVariance):\n",
        "  selector = VarianceThreshold(threshold = minVariance)\n",
        "  selector.fit(df)\n",
        "  df_new = df.loc[:, selector.get_support()]\n",
        "  print(\"Removed {} of {} for having zero variance\".format(df.shape[1]- df_new.shape[1], df.shape[1]),flush=True)\n",
        "  return(df_new)"
      ],
      "metadata": {
        "id": "cMje7bSPpynO"
      },
      "execution_count": null,
      "outputs": []
    },
    {
      "cell_type": "code",
      "source": [
        "# Read in data\n",
        "ccle_mutations = remove_lowVar(pd.read_csv('./Datasets/CCLE_mutations_bool_damaging.csv', index_col=0),0)\n",
        "ccle_met = remove_lowVar(pd.read_csv('./Datasets/CCLE_metabolomics_averages.csv',index_col=0),0)"
      ],
      "metadata": {
        "colab": {
          "base_uri": "https://localhost:8080/"
        },
        "id": "ICZDYBCvo353",
        "outputId": "c9257a31-05d7-4279-a6b3-422a15b4137b"
      },
      "execution_count": null,
      "outputs": [
        {
          "output_type": "stream",
          "name": "stdout",
          "text": [
            "Removed 146 of 17349 for having zero variance\n",
            "Removed 0 of 225 for having zero variance\n"
          ]
        }
      ]
    },
    {
      "cell_type": "code",
      "source": [
        "#Map mutation broad IDs to CCLE cell line names\n",
        "ccle_map_info = pd.read_csv('./Datasets/sample_info.csv')\n",
        "ccle_map = ccle_map_info.set_index('DepMap_ID')['cell_line_name'].to_dict()\n",
        "ccle_mutations.index = ccle_mutations.index.map(ccle_map)"
      ],
      "metadata": {
        "id": "rEzS5hkVsxlY"
      },
      "execution_count": null,
      "outputs": []
    },
    {
      "cell_type": "code",
      "source": [
        "#Merge data\n",
        "ccle_merge = pd.merge(ccle_mutations,ccle_met, left_index=True, right_index=True)"
      ],
      "metadata": {
        "id": "efA1fU7LtvTu"
      },
      "execution_count": null,
      "outputs": []
    },
    {
      "cell_type": "code",
      "source": [
        "#Store mutation genes and metabolites\n",
        "mutation_genes = ccle_mutations.columns\n",
        "metabolites = ccle_met.columns"
      ],
      "metadata": {
        "id": "7vXmL54cuRqs"
      },
      "execution_count": null,
      "outputs": []
    },
    {
      "cell_type": "markdown",
      "source": [
        "# Create models"
      ],
      "metadata": {
        "id": "WrX0D-k_nuKl"
      }
    },
    {
      "cell_type": "markdown",
      "source": [
        "## RF Model"
      ],
      "metadata": {
        "id": "m7hNhYr1nxIz"
      }
    },
    {
      "cell_type": "code",
      "source": [
        "scaler = StandardScaler()\n",
        "def train_multiRegressCV(classifier, data, x_cols, y_cols, n_splits=5, pval_cutoff=0.05, scale_y=True):\n",
        "\n",
        "  # split into train and test data: all metabolites, median data\n",
        "  X =  data.loc[:, x_cols]\n",
        "  y =  data.loc[:, y_cols]\n",
        "\n",
        "  # create multi-output ridge regression model\n",
        "  if classifier==\"RF\":\n",
        "    model=RandomForestRegressor(random_state=0, n_estimators=100, n_jobs=-1, max_depth=10)\n",
        "    print(\"Training model with random forest!\")\n",
        "\n",
        "  else:\n",
        "    print(\"Enter model type!\")\n",
        "    sys.exit()\n",
        "\n",
        "  clf = MultiOutputRegressor(model)\n",
        "\n",
        "  cv = KFold(n_splits=n_splits,\n",
        "                shuffle=True,\n",
        "                random_state=123)\n",
        "\n",
        "  # create empty lists to store CV scores, confusion mat, etc.\n",
        "  df_y_test_all = pd.DataFrame(columns=y_cols)\n",
        "  df_y_pred_all = pd.DataFrame(columns=y_cols)\n",
        "\n",
        "  count = 1\n",
        "\n",
        "  # loop through cross-val folds\n",
        "  all_means = pd.DataFrame(index=x_cols)\n",
        "\n",
        "  for train_index, test_index in cv.split(X, y):\n",
        "      start_time = time.perf_counter()\n",
        "      print(count,flush=True)\n",
        "      X_trainCV, X_testCV = X.iloc[train_index], X.iloc[test_index]\n",
        "      y_trainCV, y_testCV = y.iloc[train_index], y.iloc[test_index]\n",
        "\n",
        "      # X_trainCV =  scaler.fit_transform(X_trainCV)\n",
        "      # X_testCV =  scaler.transform(X_testCV)\n",
        "\n",
        "      if scale_y:\n",
        "        y_trainCV =  scaler.fit_transform(y_trainCV)\n",
        "        y_testCV =  scaler.transform(y_testCV)\n",
        "\n",
        "      tmp_mdl = clf.fit(X_trainCV, y_trainCV)\n",
        "      y_predCV = tmp_mdl.predict(X_testCV)\n",
        "\n",
        "      df_pred_temp  = pd.DataFrame(y_predCV, columns=y_cols)\n",
        "      df_test_temp = pd.DataFrame(y_testCV, columns=y_cols)\n",
        "\n",
        "      df_y_test_all = pd.concat([df_y_test_all, df_test_temp])\n",
        "      df_y_pred_all = pd.concat([df_y_pred_all, df_pred_temp])\n",
        "\n",
        "      count = count+1\n",
        "\n",
        "      finish_time = time.perf_counter()\n",
        "      print(\"CV fold finished in {} seconds\".format(finish_time-start_time),flush=True)\n",
        "\n",
        "  #print(\"Shape of y_test:\")\n",
        "  #print(df_y_test_all.shape)\n",
        "  #print(\"Calculating Pearson's R for each metabolite...\")\n",
        "  r = []\n",
        "  for i, col in enumerate(y_cols):\n",
        "    r.append(scipy.stats.pearsonr(df_y_test_all.iloc[:,i], df_y_pred_all.iloc[:,i]))\n",
        "\n",
        "  df_results = pd.DataFrame(r, columns=['R','pval'], index=y_cols)  # index=y_cols,\n",
        "\n",
        "  #print(\"Shape of results:\")\n",
        "  #print(df_results.shape)\n",
        "\n",
        "\n",
        "  df_results['Significant']  = (df_results.pval < pval_cutoff) & (df_results.R > 0)\n",
        "  df_results['R2']  = df_results.R**2\n",
        "\n",
        "  # X_final = scaler.fit_transform(X)\n",
        "  X_final = pd.DataFrame(X_final,columns=X.columns,index=X.index)\n",
        "  if scale_y:\n",
        "    y_final = scaler.fit_transform(y)\n",
        "    y_final = pd.DataFrame(y_final,columns=y.columns,index=y.index)\n",
        "\n",
        "  print(\"Training final model on dataset of {} samples and {} features\".format(X_final.shape[0], X_final.shape[1]))\n",
        "\n",
        "  final_mdl = clf.fit(X_final, y_final)\n",
        "\n",
        "  return df_results, final_mdl"
      ],
      "metadata": {
        "id": "dX-Y4DDfoTh7"
      },
      "execution_count": null,
      "outputs": []
    },
    {
      "cell_type": "markdown",
      "source": [
        "# Build Models"
      ],
      "metadata": {
        "id": "n8MduW7qu6Ba"
      }
    },
    {
      "cell_type": "code",
      "source": [
        "#Build model\n",
        "modeltype = 'RF'\n",
        "data_in = ccle_merge\n",
        "x_cols = mutation_genes\n",
        "y_cols = metabolites\n",
        "RF_results, RF_mdl = train_multiRegressCV(modeltype, data_in, x_cols, y_cols, n_splits=5, pval_cutoff=0.05, scale_y=False)"
      ],
      "metadata": {
        "id": "5Q13zbjwu-Oc"
      },
      "execution_count": null,
      "outputs": []
    },
    {
      "cell_type": "code",
      "source": [
        "#Export results\n",
        "RF_results.to_csv('./Results/RF_BinaryMutations_Correlations.csv', index=False)\n",
        "with open('./Results/RF_BinaryMutations_Model.pkl', 'wb') as file:\n",
        "  pickle.dump(RF_mdl, file)"
      ],
      "metadata": {
        "id": "2xeHNVs9EACq"
      },
      "execution_count": null,
      "outputs": []
    }
  ]
}